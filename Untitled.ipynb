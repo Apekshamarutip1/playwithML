{
 "cells": [
  {
   "cell_type": "code",
   "execution_count": 3,
   "metadata": {},
   "outputs": [
    {
     "name": "stdout",
     "output_type": "stream",
     "text": [
      "Requirement already satisfied: playwithML in c:\\users\\user\\appdata\\local\\programs\\python\\python37\\lib\\site-packages (0.1)\n"
     ]
    }
   ],
   "source": [
    "! pip install playwithML"
   ]
  },
  {
   "cell_type": "code",
   "execution_count": 5,
   "metadata": {},
   "outputs": [
    {
     "name": "stdout",
     "output_type": "stream",
     "text": [
      "Your dataset looks like this\n",
      "\n",
      "   Unnamed: 0        PR        PP       PT1       PT2       PT3      PDID  \\\n",
      "0       C401  0.812959  0.824135  0.243374  0.526769  0.283395  0.012436   \n",
      "1       C402  0.845954  0.747754  0.140305  0.348656  0.208351  0.464244   \n",
      "2       C403  0.870881  0.612590  0.290799  0.550933  0.260134  0.168164   \n",
      "3       C404  0.993293  0.491175  0.389590  0.700164  0.310574  0.009515   \n",
      "4       C405  0.802703  0.582300  0.141758  0.370029  0.228271  0.245060   \n",
      "5       C406  0.736710  0.613092  0.142194  0.365020  0.222827  0.229862   \n",
      "6       C407  0.762311  0.777842  0.221256  0.402466  0.181211  0.308896   \n",
      "7       C408  0.912303  0.842577  0.382327  0.645630  0.263303  0.255972   \n",
      "8       C409  0.481626  0.886007  0.113759  0.297956  0.184197  0.251370   \n",
      "9       C410  0.808843  0.311862  0.228371  0.452617  0.224246  0.119546   \n",
      "\n",
      "    PHR         SVA    STRESS     RATIO  Unnamed: 11  \n",
      "0  75.0   69.921786  1.037138  3.501733            1  \n",
      "1  74.0   48.832606  1.218822  5.513958            1  \n",
      "2  70.0   59.273583  1.439769  2.168398            1  \n",
      "3  61.0  145.568237  0.708102  4.796764            1  \n",
      "4  76.0   35.335561  1.417359  4.138236            1  \n",
      "5  82.0   38.508696  1.252337  4.328984            1  \n",
      "6  79.0   54.910938  1.065064  3.559947            1  \n",
      "7  66.0   91.893087  1.096115  2.347531            1  \n",
      "8   NaN   41.497698  0.689210  7.807899            1  \n",
      "9  75.0   25.910334  2.657245  1.419858            1  \n",
      "Enter the column names you want to delete from the datset in space separated manner: 1\n",
      "\n",
      "After deleting the selected columns your dataset looks like this\n",
      "  Unnamed: 0        PP       PT1       PT2       PT3      PDID   PHR  \\\n",
      "0       C401  0.824135  0.243374  0.526769  0.283395  0.012436  75.0   \n",
      "1       C402  0.747754  0.140305  0.348656  0.208351  0.464244  74.0   \n",
      "2       C403  0.612590  0.290799  0.550933  0.260134  0.168164  70.0   \n",
      "3       C404  0.491175  0.389590  0.700164  0.310574  0.009515  61.0   \n",
      "4       C405  0.582300  0.141758  0.370029  0.228271  0.245060  76.0   \n",
      "\n",
      "          SVA    STRESS     RATIO  Unnamed: 11  \n",
      "0   69.921786  1.037138  3.501733            1  \n",
      "1   48.832606  1.218822  5.513958            1  \n",
      "2   59.273583  1.439769  2.168398            1  \n",
      "3  145.568237  0.708102  4.796764            1  \n",
      "4   35.335561  1.417359  4.138236            1  \n"
     ]
    },
    {
     "name": "stderr",
     "output_type": "stream",
     "text": [
      "c:\\users\\user\\appdata\\local\\programs\\python\\python37\\lib\\site-packages\\sklearn\\metrics\\_classification.py:1221: UndefinedMetricWarning: Precision is ill-defined and being set to 0.0 in labels with no predicted samples. Use `zero_division` parameter to control this behavior.\n",
      "  _warn_prf(average, modifier, msg_start, len(result))\n"
     ]
    },
    {
     "data": {
      "text/html": [
       "<style  type=\"text/css\" >\n",
       "    #T_f93fae06_e058_11ea_a4b0_5cb901b98052row1_col0 {\n",
       "            background-color:  yellow;\n",
       "        }    #T_f93fae06_e058_11ea_a4b0_5cb901b98052row1_col1 {\n",
       "            background-color:  yellow;\n",
       "        }    #T_f93fae06_e058_11ea_a4b0_5cb901b98052row1_col2 {\n",
       "            background-color:  yellow;\n",
       "        }    #T_f93fae06_e058_11ea_a4b0_5cb901b98052row1_col3 {\n",
       "            background-color:  yellow;\n",
       "        }    #T_f93fae06_e058_11ea_a4b0_5cb901b98052row4_col0 {\n",
       "            background-color:  yellow;\n",
       "        }    #T_f93fae06_e058_11ea_a4b0_5cb901b98052row4_col1 {\n",
       "            background-color:  yellow;\n",
       "        }    #T_f93fae06_e058_11ea_a4b0_5cb901b98052row4_col2 {\n",
       "            background-color:  yellow;\n",
       "        }    #T_f93fae06_e058_11ea_a4b0_5cb901b98052row4_col3 {\n",
       "            background-color:  yellow;\n",
       "        }</style><table id=\"T_f93fae06_e058_11ea_a4b0_5cb901b98052\" ><thead>    <tr>        <th class=\"blank level0\" ></th>        <th class=\"col_heading level0 col0\" >Accuracy Score</th>        <th class=\"col_heading level0 col1\" >Precision Score</th>        <th class=\"col_heading level0 col2\" >Recall Score</th>        <th class=\"col_heading level0 col3\" >F1 Score</th>    </tr></thead><tbody>\n",
       "                <tr>\n",
       "                        <th id=\"T_f93fae06_e058_11ea_a4b0_5cb901b98052level0_row0\" class=\"row_heading level0 row0\" >Random Forest Classifier</th>\n",
       "                        <td id=\"T_f93fae06_e058_11ea_a4b0_5cb901b98052row0_col0\" class=\"data row0 col0\" >0.936170</td>\n",
       "                        <td id=\"T_f93fae06_e058_11ea_a4b0_5cb901b98052row0_col1\" class=\"data row0 col1\" >0.953191</td>\n",
       "                        <td id=\"T_f93fae06_e058_11ea_a4b0_5cb901b98052row0_col2\" class=\"data row0 col2\" >0.936170</td>\n",
       "                        <td id=\"T_f93fae06_e058_11ea_a4b0_5cb901b98052row0_col3\" class=\"data row0 col3\" >0.937234</td>\n",
       "            </tr>\n",
       "            <tr>\n",
       "                        <th id=\"T_f93fae06_e058_11ea_a4b0_5cb901b98052level0_row1\" class=\"row_heading level0 row1\" >Decision Tree Classifier</th>\n",
       "                        <td id=\"T_f93fae06_e058_11ea_a4b0_5cb901b98052row1_col0\" class=\"data row1 col0\" >1.000000</td>\n",
       "                        <td id=\"T_f93fae06_e058_11ea_a4b0_5cb901b98052row1_col1\" class=\"data row1 col1\" >1.000000</td>\n",
       "                        <td id=\"T_f93fae06_e058_11ea_a4b0_5cb901b98052row1_col2\" class=\"data row1 col2\" >1.000000</td>\n",
       "                        <td id=\"T_f93fae06_e058_11ea_a4b0_5cb901b98052row1_col3\" class=\"data row1 col3\" >1.000000</td>\n",
       "            </tr>\n",
       "            <tr>\n",
       "                        <th id=\"T_f93fae06_e058_11ea_a4b0_5cb901b98052level0_row2\" class=\"row_heading level0 row2\" >SVC</th>\n",
       "                        <td id=\"T_f93fae06_e058_11ea_a4b0_5cb901b98052row2_col0\" class=\"data row2 col0\" >0.808511</td>\n",
       "                        <td id=\"T_f93fae06_e058_11ea_a4b0_5cb901b98052row2_col1\" class=\"data row2 col1\" >0.872872</td>\n",
       "                        <td id=\"T_f93fae06_e058_11ea_a4b0_5cb901b98052row2_col2\" class=\"data row2 col2\" >0.808511</td>\n",
       "                        <td id=\"T_f93fae06_e058_11ea_a4b0_5cb901b98052row2_col3\" class=\"data row2 col3\" >0.803813</td>\n",
       "            </tr>\n",
       "            <tr>\n",
       "                        <th id=\"T_f93fae06_e058_11ea_a4b0_5cb901b98052level0_row3\" class=\"row_heading level0 row3\" >SGD Classifier</th>\n",
       "                        <td id=\"T_f93fae06_e058_11ea_a4b0_5cb901b98052row3_col0\" class=\"data row3 col0\" >0.617021</td>\n",
       "                        <td id=\"T_f93fae06_e058_11ea_a4b0_5cb901b98052row3_col1\" class=\"data row3 col1\" >0.660334</td>\n",
       "                        <td id=\"T_f93fae06_e058_11ea_a4b0_5cb901b98052row3_col2\" class=\"data row3 col2\" >0.617021</td>\n",
       "                        <td id=\"T_f93fae06_e058_11ea_a4b0_5cb901b98052row3_col3\" class=\"data row3 col3\" >0.592169</td>\n",
       "            </tr>\n",
       "            <tr>\n",
       "                        <th id=\"T_f93fae06_e058_11ea_a4b0_5cb901b98052level0_row4\" class=\"row_heading level0 row4\" >Gradient Boosting Classifier</th>\n",
       "                        <td id=\"T_f93fae06_e058_11ea_a4b0_5cb901b98052row4_col0\" class=\"data row4 col0\" >1.000000</td>\n",
       "                        <td id=\"T_f93fae06_e058_11ea_a4b0_5cb901b98052row4_col1\" class=\"data row4 col1\" >1.000000</td>\n",
       "                        <td id=\"T_f93fae06_e058_11ea_a4b0_5cb901b98052row4_col2\" class=\"data row4 col2\" >1.000000</td>\n",
       "                        <td id=\"T_f93fae06_e058_11ea_a4b0_5cb901b98052row4_col3\" class=\"data row4 col3\" >1.000000</td>\n",
       "            </tr>\n",
       "            <tr>\n",
       "                        <th id=\"T_f93fae06_e058_11ea_a4b0_5cb901b98052level0_row5\" class=\"row_heading level0 row5\" >Adaboost Classifier</th>\n",
       "                        <td id=\"T_f93fae06_e058_11ea_a4b0_5cb901b98052row5_col0\" class=\"data row5 col0\" >0.744681</td>\n",
       "                        <td id=\"T_f93fae06_e058_11ea_a4b0_5cb901b98052row5_col1\" class=\"data row5 col1\" >0.611915</td>\n",
       "                        <td id=\"T_f93fae06_e058_11ea_a4b0_5cb901b98052row5_col2\" class=\"data row5 col2\" >0.744681</td>\n",
       "                        <td id=\"T_f93fae06_e058_11ea_a4b0_5cb901b98052row5_col3\" class=\"data row5 col3\" >0.657335</td>\n",
       "            </tr>\n",
       "            <tr>\n",
       "                        <th id=\"T_f93fae06_e058_11ea_a4b0_5cb901b98052level0_row6\" class=\"row_heading level0 row6\" >Extra Tree Classifier</th>\n",
       "                        <td id=\"T_f93fae06_e058_11ea_a4b0_5cb901b98052row6_col0\" class=\"data row6 col0\" >0.893617</td>\n",
       "                        <td id=\"T_f93fae06_e058_11ea_a4b0_5cb901b98052row6_col1\" class=\"data row6 col1\" >0.913593</td>\n",
       "                        <td id=\"T_f93fae06_e058_11ea_a4b0_5cb901b98052row6_col2\" class=\"data row6 col2\" >0.893617</td>\n",
       "                        <td id=\"T_f93fae06_e058_11ea_a4b0_5cb901b98052row6_col3\" class=\"data row6 col3\" >0.895284</td>\n",
       "            </tr>\n",
       "            <tr>\n",
       "                        <th id=\"T_f93fae06_e058_11ea_a4b0_5cb901b98052level0_row7\" class=\"row_heading level0 row7\" >Passive Aggresive Classifier</th>\n",
       "                        <td id=\"T_f93fae06_e058_11ea_a4b0_5cb901b98052row7_col0\" class=\"data row7 col0\" >0.595745</td>\n",
       "                        <td id=\"T_f93fae06_e058_11ea_a4b0_5cb901b98052row7_col1\" class=\"data row7 col1\" >0.650355</td>\n",
       "                        <td id=\"T_f93fae06_e058_11ea_a4b0_5cb901b98052row7_col2\" class=\"data row7 col2\" >0.595745</td>\n",
       "                        <td id=\"T_f93fae06_e058_11ea_a4b0_5cb901b98052row7_col3\" class=\"data row7 col3\" >0.607647</td>\n",
       "            </tr>\n",
       "    </tbody></table>"
      ],
      "text/plain": [
       "<pandas.io.formats.style.Styler at 0x1b695690f88>"
      ]
     },
     "execution_count": 5,
     "metadata": {},
     "output_type": "execute_result"
    }
   ],
   "source": [
    "from playwithml import predictor as p\n",
    "\n",
    "P = p('pulse.xlsx')\n",
    "P.do_all(c=True)"
   ]
  },
  {
   "cell_type": "code",
   "execution_count": null,
   "metadata": {},
   "outputs": [],
   "source": []
  }
 ],
 "metadata": {
  "kernelspec": {
   "display_name": "Python 3",
   "language": "python",
   "name": "python3"
  },
  "language_info": {
   "codemirror_mode": {
    "name": "ipython",
    "version": 3
   },
   "file_extension": ".py",
   "mimetype": "text/x-python",
   "name": "python",
   "nbconvert_exporter": "python",
   "pygments_lexer": "ipython3",
   "version": "3.7.4"
  }
 },
 "nbformat": 4,
 "nbformat_minor": 2
}
